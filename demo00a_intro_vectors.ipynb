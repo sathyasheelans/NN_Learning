{
 "cells": [
  {
   "cell_type": "markdown",
   "metadata": {},
   "source": [
    "# Demo: Getting Started with Numpy Vectors\n",
    "\n",
    "The `numpy` package has a number of powerful and fast tools for manipulating vectors.  In this demo, we will illustrate some of the features of the package that will be used throughout the class.  A more complete summary of `python` and `numpy` can be found at:\n",
    "\n",
    "https://docs.python.org/3/tutorial/\n",
    "\n",
    "https://docs.scipy.org/doc/numpy/user/quickstart.html\n",
    "\n",
    "http://cs231n.github.io/python-numpy-tutorial/\n",
    "\n",
    "\n",
    "For this tutorial, we start by importing the `numpy` package."
   ]
  },
  {
   "cell_type": "code",
   "execution_count": 50,
   "metadata": {},
   "outputs": [
    {
     "data": {
      "text/plain": "<Figure size 432x288 with 1 Axes>",
      "image/png": "[encoded data removed]"
     },
     "metadata": {
      "needs_background": "light"
     },
     "output_type": "display_data"
    }
   ],
   "source": [
    "import numpy as np\n",
    "import matplotlib.pyplot as plt\n",
    "x = np.array([0,1,2,3,4])\n",
    "y = np.array([0,0.5,1,0.5,3])\n",
    "beta0 = -0.2\n",
    "beta1 = 0.6\n",
    "\n",
    "yi = beta0 + beta1*x\n",
    "plt.plot(x,y,'o')\n",
    "plt.plot(x,yi)\n",
    "plt.xlabel('x')\n",
    "plt.ylabel('y')\n",
    "plt.grid(True)\n"
   ]
  },
  {
   "cell_type": "markdown",
   "metadata": {},
   "source": [
    "## Creating vectors\n",
    "We can create vectors in several ways.  First, we can manually create a vector by specifying its elements.  Note that, unlike MATLAB, there is no difference between row and column vectors.  Also, there are no semicolons; you have to call the `print` command to print the object."
   ]
  },
  {
   "cell_type": "code",
   "execution_count": 51,
   "metadata": {},
   "outputs": [
    {
     "name": "stdout",
     "output_type": "stream",
     "text": [
      "[1 2 6]\n"
     ]
    }
   ],
   "source": [
    "x = np.array([1,2,6])\n",
    "print(x)"
   ]
  },
  {
   "cell_type": "markdown",
   "metadata": {},
   "source": [
    "You can also create a vector from a sequence of integers:"
   ]
  },
  {
   "cell_type": "code",
   "execution_count": 52,
   "metadata": {},
   "outputs": [
    {
     "name": "stdout",
     "output_type": "stream",
     "text": [
      "x1 = [0 1 2 3 4 5 6 7 8 9]\n",
      "x2 = [2 3 4 5 6]\n"
     ]
    }
   ],
   "source": [
    "x1 = np.arange(10)   # numbers from 0 to 9 (note 10 is NOT included)\n",
    "x2 = np.arange(2,7)  # numbers from 2 to 6 (note 7 is NOT included)\n",
    "print(\"x1 = \"+str(x1))\n",
    "print(\"x2 = \"+str(x2))"
   ]
  },
  {
   "cell_type": "markdown",
   "metadata": {},
   "source": [
    "You can also specify a `step` argument to create more complicated sequences.  The step does not need to be positive or integer valued:"
   ]
  },
  {
   "cell_type": "code",
   "execution_count": 53,
   "metadata": {},
   "outputs": [
    {
     "name": "stdout",
     "output_type": "stream",
     "text": [
      "[10 15 20 25 30 35 40 45]\n",
      "[ 0.   2.5  5.   7.5 10. ]\n"
     ]
    }
   ],
   "source": [
    "x1 = np.arange(10,50,5)   # increments of 5 (note this ends on 45, not 50)\n",
    "print(x1)\n",
    "\n",
    "# Increments of 2.5.  To ensure it includes the value 10, we make the endpoint slightly >10.\n",
    "step = 2.5\n",
    "x2 = np.arange(0,10+step/2,step)\n",
    "print(x2)"
   ]
  },
  {
   "cell_type": "markdown",
   "metadata": {},
   "source": [
    "Most operations can be vectorized, meaning that the operation is applied to each component."
   ]
  },
  {
   "cell_type": "code",
   "execution_count": 54,
   "metadata": {},
   "outputs": [
    {
     "name": "stdout",
     "output_type": "stream",
     "text": [
      "x = [2 3 4 5]\n",
      "y = [ 4  9 16 25]\n"
     ]
    }
   ],
   "source": [
    "x = np.array(range(2,6))\n",
    "y = x**2\n",
    "print(\"x = \" + str(x))\n",
    "print(\"y = \" + str(y))"
   ]
  },
  {
   "cell_type": "markdown",
   "metadata": {},
   "source": [
    "**Exercise**  Write code to create the following vectors.  Use the `range` function along with basic mathematical operations.  For the case of `z2` you may consider using the `np.abs()` function.\n",
    "\n",
    "    z1 = [2,4,6,8,10,...,20]  \n",
    "    z2 = [50,40,30,...,10,0,10,20,...,50]\n",
    "    "
   ]
  },
  {
   "cell_type": "markdown",
   "metadata": {},
   "source": [
    "In the demos and labs, we will load vectors from data files.  We will show how to do this later using the `pandas` package."
   ]
  },
  {
   "cell_type": "markdown",
   "metadata": {},
   "source": [
    "## Careful: Arrays retain their datatype!\n",
    "\n",
    "Unlike Matlab, arrays retain their originally declared datatype, despite any operations that may be performed on them.\n",
    "For example, you can't replace one element of an integer array with a float, and you can't divide integer elements and expect floats."
   ]
  },
  {
   "cell_type": "code",
   "execution_count": 55,
   "metadata": {},
   "outputs": [
    {
     "name": "stdout",
     "output_type": "stream",
     "text": [
      "x=[2 3 4 5]\n",
      "r=[0.34955258]\n",
      "x=[0 1 4 5]\n",
      "int64\n"
     ]
    }
   ],
   "source": [
    "x = np.array(range(2,6)) # declare an integer array\n",
    "print(\"x=\"+str(x))\n",
    "r = np.random.rand(1) # generate random float\n",
    "print(\"r=\"+str(r))\n",
    "x[0] = r # try assigning float as element\n",
    "x[1] = x[1]/2 # try dividing odd integer by two\n",
    "print(\"x=\"+str(x)) # the array stays integer!\n",
    "print(x.dtype)"
   ]
  },
  {
   "cell_type": "markdown",
   "metadata": {},
   "source": [
    "For this reason, you may need to declare the type when making the array.\n",
    "For example..."
   ]
  },
  {
   "cell_type": "code",
   "execution_count": 56,
   "metadata": {},
   "outputs": [
    {
     "name": "stdout",
     "output_type": "stream",
     "text": [
      "r=[0.34955258]\n",
      "x=[2. 3. 4. 5.]\n",
      "x=[0.34955258 1.5        4.         5.        ]\n",
      "x=[2. 3. 4. 5.]\n",
      "x=[0.34955258 1.5        4.         5.        ]\n"
     ]
    }
   ],
   "source": [
    "print(\"r=\"+str(r))\n",
    "x = np.array(range(2,6), dtype=float) # declare an array of floats\n",
    "print(\"x=\"+str(x))\n",
    "x[0] = r # try assigning float as element\n",
    "x[1] = x[1]/2 # try dividing odd integer by two\n",
    "print(\"x=\"+str(x)) # this works fine!\n",
    "\n",
    "x = np.array([2,3,4,5.]) # this also declares an array of floats\n",
    "print(\"x=\"+str(x))\n",
    "x[0] = r # try assigning float as element\n",
    "x[1] = x[1]/2 # try dividing odd integer by two\n",
    "print(\"x=\"+str(x)) # this works fine!"
   ]
  },
  {
   "cell_type": "markdown",
   "metadata": {},
   "source": [
    "Complex numbers are handled as follows."
   ]
  },
  {
   "cell_type": "code",
   "execution_count": 57,
   "metadata": {},
   "outputs": [
    {
     "name": "stdout",
     "output_type": "stream",
     "text": [
      "[1.+0.j 2.+0.j 3.+0.j]\n",
      "[0.+1.j 0.+2.j 0.+3.j]\n"
     ]
    }
   ],
   "source": [
    "x = np.array(range(1,4), dtype=complex) # gives an array of complex\n",
    "print(x)\n",
    "print(x*1j)"
   ]
  },
  {
   "cell_type": "markdown",
   "metadata": {},
   "source": [
    "## Plotting vectors\n",
    "The `matplotlib` package has excellent routines for plotting data and uses a very similar interface as MATLAB.  To load the package use the following commands.  The second line `%matplotlib inline` is only used when running python in `jupyter notebook.`"
   ]
  },
  {
   "cell_type": "code",
   "execution_count": 58,
   "metadata": {},
   "outputs": [],
   "source": [
    "import matplotlib.pyplot as plt\n",
    "%matplotlib inline"
   ]
  },
  {
   "cell_type": "markdown",
   "metadata": {},
   "source": [
    "A simple illustration to plot $\\sin(2\\pi(3)t)$ vs. $t$ for $t \\in [0,2]$."
   ]
  },
  {
   "cell_type": "code",
   "execution_count": 59,
   "metadata": {},
   "outputs": [
    {
     "data": {
      "text/plain": "Text(0, 0.5, 'sin(2pi ft)')"
     },
     "execution_count": 59,
     "metadata": {},
     "output_type": "execute_result"
    },
    {
     "data": {
      "text/plain": "<Figure size 432x288 with 1 Axes>",
      "image/png": "[encoded data removed]"
     },
     "metadata": {
      "needs_background": "light"
     },
     "output_type": "display_data"
    }
   ],
   "source": [
    "f = 3\n",
    "t = np.linspace(0,2,100)  # Similar to the MATLAB linspace command\n",
    "y = np.sin(2*np.pi*f*t)\n",
    "\n",
    "plt.plot(t,y)\n",
    "plt.grid()\n",
    "plt.xlabel('t', fontsize=16)\n",
    "plt.ylabel('sin(2pi ft)', fontsize=16)"
   ]
  },
  {
   "cell_type": "markdown",
   "metadata": {},
   "source": [
    "You can also superimpose plots."
   ]
  },
  {
   "cell_type": "code",
   "execution_count": 60,
   "metadata": {
    "scrolled": true
   },
   "outputs": [
    {
     "data": {
      "text/plain": "Text(0.5, 0, 't')"
     },
     "execution_count": 60,
     "metadata": {},
     "output_type": "execute_result"
    },
    {
     "data": {
      "text/plain": "<Figure size 432x288 with 1 Axes>",
      "image/png": "[encoded data removed]"
     },
     "metadata": {
      "needs_background": "light"
     },
     "output_type": "display_data"
    }
   ],
   "source": [
    "ysq = y**2\n",
    "plt.plot(t,y)\n",
    "plt.plot(t,ysq)\n",
    "plt.grid()\n",
    "plt.xlabel('t')"
   ]
  },
  {
   "cell_type": "markdown",
   "metadata": {},
   "source": [
    "**Exercise** Create a plot of $y = e^{-2x}$ vs. $x$ for $x \\in [-1,3]$.  Use 200 points in the values of $x$."
   ]
  },
  {
   "cell_type": "markdown",
   "metadata": {},
   "source": [
    "## Indexing and Slicing Vectors\n",
    "\n",
    "You can access individual elements by `x[i]`.  Unlike MATLAB, the indexing starts at 0!  "
   ]
  },
  {
   "cell_type": "code",
   "execution_count": 61,
   "metadata": {},
   "outputs": [
    {
     "name": "stdout",
     "output_type": "stream",
     "text": [
      "Element 0 is 2\n",
      "Element 3 is 8\n"
     ]
    }
   ],
   "source": [
    "x = np.array([2,4,6,8,10])\n",
    "print(\"Element 0 is \"+str(x[0]))\n",
    "print(\"Element 3 is \"+str(x[3])) "
   ]
  },
  {
   "cell_type": "markdown",
   "metadata": {},
   "source": [
    "Similar to MATLAB, you can obtain *slices* of `numpy` vectors, meaning subsets of components.  Use the `:` operator as follows."
   ]
  },
  {
   "cell_type": "code",
   "execution_count": 62,
   "metadata": {},
   "outputs": [
    {
     "name": "stdout",
     "output_type": "stream",
     "text": [
      "x=      [0.652 0.414 0.803 0.882 0.929 0.358 0.871 0.299 0.502 0.891 0.692]\n",
      "x[2:5]= [0.803 0.882 0.929]\n",
      "x[:4]=  [0.652 0.414 0.803 0.882]\n",
      "x[7:]=  [0.299 0.502 0.891 0.692]\n",
      "xlast=  0.692\n"
     ]
    }
   ],
   "source": [
    "x = np.random.rand(11)  # 10 random elements uniformly distributed in [0,1]\n",
    "x1 = x[2:5]             # Elements 2 thru 5 (not including 5, indexing starts at 0)\n",
    "x2 = x[:4]              # Elements thru 4 (not including 4, indexing starts at 0)\n",
    "x3 = x[7:]              # Elements 7 to end (indexing starts at 0)\n",
    "xlast = x[-1]           # The last element (i.e., index=length-1)\n",
    "\n",
    "print(\"x=      \"+np.array_str(x,precision=3))\n",
    "print(\"x[2:5]= \"+np.array_str(x1,precision=3))\n",
    "print(\"x[:4]=  \"+np.array_str(x2,precision=3))\n",
    "print(\"x[7:]=  \"+np.array_str(x3,precision=3))\n",
    "print(\"xlast=  {0:5.3f}\".format(xlast))\n"
   ]
  },
  {
   "cell_type": "markdown",
   "metadata": {},
   "source": [
    "** Exercise **  Suppose we construct a vector `x` by:\n",
    "\n",
    "    x = np.array(range(1,5))**2\n",
    "    \n",
    "What are the vectors created by the following slicing operations:\n",
    "\n",
    "    x1 = x[:3]\n",
    "    x2 = x[3:]\n",
    "    x3 = x[1:4]"
   ]
  },
  {
   "cell_type": "markdown",
   "metadata": {},
   "source": [
    "## Careful: Array slicing does not copy!\n",
    "\n",
    "One thing to note is that slices of an array are merely *pointers* to the original array.\n",
    "So, if you modify the slice, you modify the original array!\n",
    "If you want to manipulate a slice independently of the original array, you must explicity create a copy of that slice."
   ]
  },
  {
   "cell_type": "code",
   "execution_count": 63,
   "metadata": {},
   "outputs": [
    {
     "name": "stdout",
     "output_type": "stream",
     "text": [
      "a=[0.26064726 2.         3.         4.        ]\n",
      "a=[1. 2. 3. 4.]\n"
     ]
    }
   ],
   "source": [
    "r = np.random.rand(1)\n",
    "a = np.array([1, 2, 3, 4],dtype=float)\n",
    "b = a[0:2] # slice of a\n",
    "b[0] = r # this will change both a and b!\n",
    "print(\"a=\"+str(a))\n",
    "\n",
    "a = np.array([1, 2, 3, 4],dtype=float)\n",
    "c = np.array(a[0:2]) # this creates a new copy from the slice\n",
    "c[0] = r # this only changes c\n",
    "print(\"a=\"+str(a))\n",
    "\n"
   ]
  },
  {
   "cell_type": "markdown",
   "metadata": {},
   "source": [
    "## For loops\n",
    "\n",
    "Python has some interesting ways to do `for` loops.  First we start with a very basic `for` loop:"
   ]
  },
  {
   "cell_type": "code",
   "execution_count": 64,
   "metadata": {},
   "outputs": [
    {
     "name": "stdout",
     "output_type": "stream",
     "text": [
      "1\n",
      "2\n",
      "3\n",
      "4\n"
     ]
    }
   ],
   "source": [
    "for k in range(1,5):\n",
    "    print(k)"
   ]
  },
  {
   "cell_type": "markdown",
   "metadata": {},
   "source": [
    "Here is another way to do the same thing:"
   ]
  },
  {
   "cell_type": "code",
   "execution_count": 65,
   "metadata": {},
   "outputs": [
    {
     "name": "stdout",
     "output_type": "stream",
     "text": [
      "1\n",
      "2\n",
      "3\n",
      "4\n"
     ]
    }
   ],
   "source": [
    "mylist = range(1,5)\n",
    "for k in mylist:\n",
    "    print(k)"
   ]
  },
  {
   "cell_type": "markdown",
   "metadata": {},
   "source": [
    "Now let's make the list more general.  We can still step through its elements using the same technique:"
   ]
  },
  {
   "cell_type": "code",
   "execution_count": 66,
   "metadata": {},
   "outputs": [
    {
     "name": "stdout",
     "output_type": "stream",
     "text": [
      "apple\n",
      "banana\n",
      "cranberry\n"
     ]
    }
   ],
   "source": [
    "mylist  = ['apple', 'banana', 'cranberry']\n",
    "for k in mylist:\n",
    "    print(k)"
   ]
  },
  {
   "cell_type": "markdown",
   "metadata": {},
   "source": [
    "There is a nice way to access both the integer index into the list *and* the list elements: "
   ]
  },
  {
   "cell_type": "code",
   "execution_count": 67,
   "metadata": {},
   "outputs": [
    {
     "name": "stdout",
     "output_type": "stream",
     "text": [
      "0 apple\n",
      "1 banana\n",
      "2 cranberry\n"
     ]
    }
   ],
   "source": [
    "for k, element in enumerate(mylist):\n",
    "    print(k,element)"
   ]
  },
  {
   "cell_type": "markdown",
   "metadata": {},
   "source": [
    "## The workspace\n",
    "\n",
    "Here are some general commands that may be useful. To see what variables have been defined, use whos:"
   ]
  },
  {
   "cell_type": "code",
   "execution_count": 67,
   "metadata": {},
   "outputs": [],
   "source": []
  },
  {
   "cell_type": "markdown",
   "metadata": {},
   "source": [
    "To delete a variable, use `del`:"
   ]
  },
  {
   "cell_type": "code",
   "execution_count": 68,
   "metadata": {},
   "outputs": [],
   "source": [
    "del element"
   ]
  },
  {
   "cell_type": "code",
   "execution_count": 68,
   "metadata": {},
   "outputs": [],
   "source": []
  }
 ],
 "metadata": {
  "anaconda-cloud": {},
  "kernelspec": {
   "display_name": "Python 3",
   "language": "python",
   "name": "python3"
  },
  "language_info": {
   "codemirror_mode": {
    "name": "ipython",
    "version": 3
   },
   "file_extension": ".py",
   "mimetype": "text/x-python",
   "name": "python",
   "nbconvert_exporter": "python",
   "pygments_lexer": "ipython3",
   "version": "3.8.5"
  },
  "varInspector": {
   "cols": {
    "lenName": 16,
    "lenType": 16,
    "lenVar": 40
   },
   "kernels_config": {
    "python": {
     "delete_cmd_postfix": "",
     "delete_cmd_prefix": "del ",
     "library": "var_list.py",
     "varRefreshCmd": "print(var_dic_list())"
    },
    "r": {
     "delete_cmd_postfix": ") ",
     "delete_cmd_prefix": "rm(",
     "library": "var_list.r",
     "varRefreshCmd": "cat(var_dic_list()) "
    }
   },
   "types_to_exclude": [
    "module",
    "function",
    "builtin_function_or_method",
    "instance",
    "_Feature"
   ],
   "window_display": false
  }
 },
 "nbformat": 4,
 "nbformat_minor": 1
}